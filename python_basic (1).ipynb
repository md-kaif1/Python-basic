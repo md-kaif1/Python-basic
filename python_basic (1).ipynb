{
  "nbformat": 4,
  "nbformat_minor": 0,
  "metadata": {
    "colab": {
      "provenance": []
    },
    "kernelspec": {
      "name": "python3",
      "display_name": "Python 3"
    },
    "language_info": {
      "name": "python"
    }
  },
  "cells": [
    {
      "cell_type": "markdown",
      "source": [
        "#python basic question\n"
      ],
      "metadata": {
        "id": "yUW69gCon2B6"
      }
    },
    {
      "cell_type": "markdown",
      "source": [
        "Q1)what is python and why it is popular?\n",
        "Ans:Python is a high-level, interpreted programming language known for its simplicity, readability, and versatility. It was created by Guido van Rossum and first released in 1991.It is popular because of simple syntex,versatile use,huge ecosystem,cross platformand interpreted language."
      ],
      "metadata": {
        "id": "3sn53EpGoGVr"
      }
    },
    {
      "cell_type": "markdown",
      "source": [
        "Q2)what is interpreter in python?\n",
        "Ans:interpreter is the program that reads and executes your Python code line by line."
      ],
      "metadata": {
        "id": "8CewAQWvrHup"
      }
    },
    {
      "cell_type": "markdown",
      "source": [
        "Q3)what are pre-define keywords in python?\n",
        "Ana:pre-defined keywords (also called reserved keywords) are special words that have specific meanings in the language's syntax. You cannot use them as variable names, function names, or identifiers because Python uses them to define the structure and flow of a program."
      ],
      "metadata": {
        "id": "608Xgo5srPWY"
      }
    },
    {
      "cell_type": "markdown",
      "source": [
        "Q4)can keyword be used as varible name?\n",
        "Ans:No, because keywords are reserved"
      ],
      "metadata": {
        "id": "JrGRHUmTxHQC"
      }
    },
    {
      "cell_type": "markdown",
      "source": [
        "Q5) what is mutability in python?\n",
        "Ans: mutability refers to whether an object can be changed after it is created.Two main categories a) Mutable object(can be change) and b)Immutable object(cannot be chande)"
      ],
      "metadata": {
        "id": "G3K4mr-prZBY"
      }
    },
    {
      "cell_type": "markdown",
      "source": [
        "Q6)why as lists mutable , but tuple are immutable?\n",
        "Ans:change is possible after lists create.change is not possible after tuple create."
      ],
      "metadata": {
        "id": "jInScugUpLfq"
      }
    },
    {
      "cell_type": "markdown",
      "source": [
        "Q7)what is the difference between \"==\" and \"is\" operator in python?\n",
        "Ans: == → Equality Operator\n",
        "Compares values of two objects.\n",
        "Returns True if their contents are the same, even if they are different objects.\n",
        "is → Identity Operator\n",
        "Compares whether two variables point to the exact same object in memory.\n",
        "Returns True if they are the same object, not just equal in value.\n",
        "\n",
        "\n",
        "\n",
        "\n"
      ],
      "metadata": {
        "id": "MDHd_fywyd5C"
      }
    },
    {
      "cell_type": "markdown",
      "source": [
        "Q8)what are logical operator in python?\n",
        "Ana:logical operators are used to combine conditional statements and return a Boolean result (True or False) are(and,or & not)."
      ],
      "metadata": {
        "id": "cLnFf-Ue1AlZ"
      }
    },
    {
      "cell_type": "markdown",
      "source": [
        "Q9)What is type casting in python?\n",
        "And:Type casting in Python means converting a value from one data type to another."
      ],
      "metadata": {
        "id": "m0SoqCAf5NDG"
      }
    },
    {
      "cell_type": "markdown",
      "source": [
        "Q10)what is the difference between implicit and explicit type casting?\n",
        "Ans:In implicit conversion is done automatically by python. in explicit conversion is done manully by the programmer."
      ],
      "metadata": {
        "id": "RVwbS_4v6MB1"
      }
    },
    {
      "cell_type": "markdown",
      "source": [
        "Q11)what is the perpose of conditional statement in python?\n",
        "Ans:Conditional statements are used to check conditions and perform different actions depending on whether the condition is True or False."
      ],
      "metadata": {
        "id": "VlEAbEkU8DmE"
      }
    },
    {
      "cell_type": "markdown",
      "source": [
        "Q12)how dose the elif statement work?\n",
        "Ans:The elif (short for else if) statement is used to check multiple conditions, one after another."
      ],
      "metadata": {
        "id": "Rm_ZUVuPBjB6"
      }
    },
    {
      "cell_type": "markdown",
      "source": [
        "  Q13)what are the difference between for loop and while loop?\n",
        "  Ans:When you know how many times to loop and control iteration over a sequence (like list,range) for for loopBut in while loop don't know how many times to loop and Loops until a condation become false."
      ],
      "metadata": {
        "id": "_ekcHtB_CHC_"
      }
    },
    {
      "cell_type": "markdown",
      "source": [
        "#practical questions\n"
      ],
      "metadata": {
        "id": "oYEtYQWvDwvH"
      }
    },
    {
      "cell_type": "markdown",
      "source": [
        "Q1)write a python program to print \"Hello, world!\""
      ],
      "metadata": {
        "id": "K110xJXRHTSP"
      }
    },
    {
      "cell_type": "code",
      "source": [
        "print(\"Hello, World!\")"
      ],
      "metadata": {
        "colab": {
          "base_uri": "https://localhost:8080/"
        },
        "id": "7G9TcWfbI2P1",
        "outputId": "3ba4cc4b-62f0-4d4d-f3b9-cb165fa7c695"
      },
      "execution_count": null,
      "outputs": [
        {
          "output_type": "stream",
          "name": "stdout",
          "text": [
            "Hello, World!\n"
          ]
        }
      ]
    },
    {
      "cell_type": "markdown",
      "source": [
        "Q2)write a python program that display your name and age."
      ],
      "metadata": {
        "id": "3EVQvbesJJJt"
      }
    },
    {
      "cell_type": "code",
      "source": [
        "a=input(\"My name is:\")\n",
        "print(a)\n",
        "b=int(input(\"My age is:\"))\n",
        "print(b)"
      ],
      "metadata": {
        "colab": {
          "base_uri": "https://localhost:8080/"
        },
        "id": "_5v2bAFUJnr4",
        "outputId": "d5deb2ee-0d25-4841-afa1-c7c260fdc7dd"
      },
      "execution_count": null,
      "outputs": [
        {
          "output_type": "stream",
          "name": "stdout",
          "text": [
            "My name is:kaif\n",
            "kaif\n",
            "My age is:34\n",
            "34\n"
          ]
        }
      ]
    },
    {
      "cell_type": "markdown",
      "source": [
        "Q3)write code to print all the pre-defined keywords in python using the keyword library."
      ],
      "metadata": {
        "id": "xamYIA6gMTu0"
      }
    },
    {
      "cell_type": "code",
      "source": [
        "import keyword\n",
        "print(keyword.kwlist)"
      ],
      "metadata": {
        "colab": {
          "base_uri": "https://localhost:8080/"
        },
        "id": "uuUEKxVNNBMM",
        "outputId": "120535a6-9ec5-4d6d-cc22-f895c8c5d740"
      },
      "execution_count": null,
      "outputs": [
        {
          "output_type": "stream",
          "name": "stdout",
          "text": [
            "['False', 'None', 'True', 'and', 'as', 'assert', 'async', 'await', 'break', 'class', 'continue', 'def', 'del', 'elif', 'else', 'except', 'finally', 'for', 'from', 'global', 'if', 'import', 'in', 'is', 'lambda', 'nonlocal', 'not', 'or', 'pass', 'raise', 'return', 'try', 'while', 'with', 'yield']\n"
          ]
        }
      ]
    },
    {
      "cell_type": "markdown",
      "source": [
        "Q4)write a program that checks if a given words is a python key word."
      ],
      "metadata": {
        "id": "8w6YzZ57R2JM"
      }
    },
    {
      "cell_type": "code",
      "source": [
        "a=5\n",
        "a\n",
        "None=3;#because it is a keyword (reserved words)\n",
        "None"
      ],
      "metadata": {
        "colab": {
          "base_uri": "https://localhost:8080/",
          "height": 108
        },
        "id": "HNBqdHO2SdZZ",
        "outputId": "274241b1-8bf8-4f78-a848-10eb502314e2"
      },
      "execution_count": null,
      "outputs": [
        {
          "output_type": "error",
          "ename": "SyntaxError",
          "evalue": "cannot assign to None (ipython-input-15-1779966844.py, line 3)",
          "traceback": [
            "\u001b[0;36m  File \u001b[0;32m\"/tmp/ipython-input-15-1779966844.py\"\u001b[0;36m, line \u001b[0;32m3\u001b[0m\n\u001b[0;31m    None=3;\u001b[0m\n\u001b[0m    ^\u001b[0m\n\u001b[0;31mSyntaxError\u001b[0m\u001b[0;31m:\u001b[0m cannot assign to None\n"
          ]
        }
      ]
    },
    {
      "cell_type": "markdown",
      "source": [
        "Q5)create a list and tuple in python, and demonstrate how attempting to change an element words differently for each."
      ],
      "metadata": {
        "id": "KFEuw1hAS-_m"
      }
    },
    {
      "cell_type": "code",
      "source": [
        "a=my_list=[10,20,30]\n",
        "print(\"My list:\",a)\n",
        "a[0]=22\n",
        "print(\"Modified list:\",a)"
      ],
      "metadata": {
        "colab": {
          "base_uri": "https://localhost:8080/"
        },
        "id": "qQRtCuqoTqSo",
        "outputId": "c5086f99-8e4c-4221-9aee-677e7a05d745"
      },
      "execution_count": null,
      "outputs": [
        {
          "output_type": "stream",
          "name": "stdout",
          "text": [
            "My list: [10, 20, 30]\n",
            "Modified list: [22, 20, 30]\n"
          ]
        }
      ]
    },
    {
      "cell_type": "code",
      "source": [
        "b=my_tuple=(1,2,3)\n",
        "print(\"orginal tuple:\",b)\n",
        "b[0]=15\n",
        "print(\"modifided tuple:\"b)"
      ],
      "metadata": {
        "colab": {
          "base_uri": "https://localhost:8080/",
          "height": 108
        },
        "id": "vLoxxSoEWC1_",
        "outputId": "536be0cf-da6e-4731-9bf4-92719ddc0466"
      },
      "execution_count": null,
      "outputs": [
        {
          "output_type": "error",
          "ename": "SyntaxError",
          "evalue": "invalid syntax. Perhaps you forgot a comma? (ipython-input-23-2923198794.py, line 4)",
          "traceback": [
            "\u001b[0;36m  File \u001b[0;32m\"/tmp/ipython-input-23-2923198794.py\"\u001b[0;36m, line \u001b[0;32m4\u001b[0m\n\u001b[0;31m    print(\"modifided tuple:\"b)\u001b[0m\n\u001b[0m          ^\u001b[0m\n\u001b[0;31mSyntaxError\u001b[0m\u001b[0;31m:\u001b[0m invalid syntax. Perhaps you forgot a comma?\n"
          ]
        }
      ]
    },
    {
      "cell_type": "markdown",
      "source": [
        "Q6)write a function to demonstrate the behiviour of mutable and immtable arguments."
      ],
      "metadata": {
        "id": "weupGt0cbjy0"
      }
    },
    {
      "cell_type": "code",
      "source": [
        "def modify_arguments(mutable_list, immutable_int):\n",
        "    print(\"\\nInside function (before modification):\")\n",
        "    print(\"mutable_list:\", mutable_list)\n",
        "    print(\"immutable_int:\", immutable_int)\n",
        "\n",
        "    mutable_list.append(100)\n",
        "    immutable_int += 10\n",
        "\n",
        "    print(\"\\nInside function (after modification):\")\n",
        "    print(\"mutable_list:\", mutable_list)\n",
        "    print(\"immutable_int:\", immutable_int)\n",
        "\n",
        "\n",
        "my_list = [1, 2, 3]\n",
        "my_int = 5\n",
        "\n",
        "print(\"Before function call:\")\n",
        "print(\"my_list:\", my_list)\n",
        "print(\"my_int:\", my_int)\n",
        "\n",
        "modify_arguments(my_list, my_int)\n",
        "\n",
        "print(\"\\nAfter function call:\")\n",
        "print(\"my_list:\", my_list)\n",
        "print(\"my_int:\", my_int)"
      ],
      "metadata": {
        "colab": {
          "base_uri": "https://localhost:8080/"
        },
        "id": "ZLTT9EcUdshQ",
        "outputId": "29616e98-6388-462c-e176-59f4dd9f12d4"
      },
      "execution_count": null,
      "outputs": [
        {
          "output_type": "stream",
          "name": "stdout",
          "text": [
            "Before function call:\n",
            "my_list: [1, 2, 3]\n",
            "my_int: 5\n",
            "\n",
            "Inside function (before modification):\n",
            "mutable_list: [1, 2, 3]\n",
            "immutable_int: 5\n",
            "\n",
            "Inside function (after modification):\n",
            "mutable_list: [1, 2, 3, 100]\n",
            "immutable_int: 15\n",
            "\n",
            "After function call:\n",
            "my_list: [1, 2, 3, 100]\n",
            "my_int: 5\n"
          ]
        }
      ]
    },
    {
      "cell_type": "markdown",
      "source": [
        "Q7)write a program that perform badic aritmetic operation on two user-input number."
      ],
      "metadata": {
        "id": "XIz8R5OPjdBg"
      }
    },
    {
      "cell_type": "code",
      "source": [
        "a=int(input(\"first no. id:\"))\n",
        "b=int(input(\"first no. id:\"))\n",
        "print(\"sum=\",a+b)"
      ],
      "metadata": {
        "colab": {
          "base_uri": "https://localhost:8080/"
        },
        "id": "p2-sSAqCjyPx",
        "outputId": "976c61ad-bc4f-4f07-d37a-84e1fbe9cbfa"
      },
      "execution_count": null,
      "outputs": [
        {
          "output_type": "stream",
          "name": "stdout",
          "text": [
            "first no. id:3\n",
            "first no. id:4\n",
            "sum= 7\n"
          ]
        }
      ]
    },
    {
      "cell_type": "markdown",
      "source": [
        "Q8)write a profram todeminstrate the logic operatin."
      ],
      "metadata": {
        "id": "LV6eKshnkfm5"
      }
    },
    {
      "cell_type": "code",
      "source": [
        "False and False"
      ],
      "metadata": {
        "colab": {
          "base_uri": "https://localhost:8080/"
        },
        "id": "azV4tejskqv9",
        "outputId": "22575a09-d832-4dd8-9b27-7fc3c3abff04"
      },
      "execution_count": null,
      "outputs": [
        {
          "output_type": "execute_result",
          "data": {
            "text/plain": [
              "False"
            ]
          },
          "metadata": {},
          "execution_count": 28
        }
      ]
    },
    {
      "cell_type": "markdown",
      "source": [
        "Q9)Write a python program to convert user input from string to integer,float, and boolean types."
      ],
      "metadata": {
        "id": "rnfsGlJ_mbUG"
      }
    },
    {
      "cell_type": "code",
      "source": [
        "a=input(\"input is:\")\n",
        "print(a)\n",
        "b=type(a)\n",
        "print(b)\n",
        "a=int(input(\"number is:\"))\n",
        "print(a)\n",
        "b=type(a)\n",
        "print(b)\n",
        "a=bool(input(\"number is:\"))\n",
        "print(a)\n",
        "b=type(a)\n",
        "print(b)\n",
        "a=float(input(\"number is:\"))\n",
        "print(a)\n",
        "b=type(a)\n",
        "print(b)"
      ],
      "metadata": {
        "colab": {
          "base_uri": "https://localhost:8080/"
        },
        "id": "VppKefUam2ue",
        "outputId": "29ed9825-094e-4b90-903a-e80e295312ce"
      },
      "execution_count": null,
      "outputs": [
        {
          "output_type": "stream",
          "name": "stdout",
          "text": [
            "input is:2\n",
            "2\n",
            "<class 'str'>\n",
            "number is:2\n",
            "2\n",
            "<class 'int'>\n",
            "number is:2\n",
            "True\n",
            "<class 'bool'>\n",
            "number is:2.1\n",
            "2.1\n",
            "<class 'float'>\n"
          ]
        }
      ]
    },
    {
      "cell_type": "markdown",
      "source": [
        "Q10)write a program to demonstrate typecasting with list."
      ],
      "metadata": {
        "id": "rUj-c0vJo2j0"
      }
    },
    {
      "cell_type": "code",
      "source": [
        "print(list(\"abc\"))\n",
        "print(list((1,2,3)))\n",
        "print(list({10,20}))\n",
        "print(list({'x':1, 'y': 2}))\n",
        "print(list(range(3)))"
      ],
      "metadata": {
        "colab": {
          "base_uri": "https://localhost:8080/"
        },
        "id": "KJeVyOQeqkPD",
        "outputId": "2dc217f8-bb6c-4656-e0c0-dac757b71566"
      },
      "execution_count": null,
      "outputs": [
        {
          "output_type": "stream",
          "name": "stdout",
          "text": [
            "['a', 'b', 'c']\n",
            "[1, 2, 3]\n",
            "[10, 20]\n",
            "['x', 'y']\n",
            "[0, 1, 2]\n"
          ]
        }
      ]
    },
    {
      "cell_type": "markdown",
      "source": [
        "Q11)write a program check number is negative ,positive, or zero.\n"
      ],
      "metadata": {
        "id": "sqtaJy59rcef"
      }
    },
    {
      "cell_type": "code",
      "source": [
        "a=int(input(\"number:\"))\n",
        "if(a>0):\n",
        "  print(\"positive\")\n",
        "elif(a==0):\n",
        "  print(\"ZERO\")\n",
        "else:\n",
        "  print(\"number is nagative\")\n"
      ],
      "metadata": {
        "colab": {
          "base_uri": "https://localhost:8080/"
        },
        "id": "qw9fzYrkrsmB",
        "outputId": "244e4e8d-06df-44c7-af7a-aa36ae54a357"
      },
      "execution_count": null,
      "outputs": [
        {
          "output_type": "stream",
          "name": "stdout",
          "text": [
            "number:-1\n",
            "number is nagative\n"
          ]
        }
      ]
    },
    {
      "cell_type": "markdown",
      "source": [
        "Q12)write a loop to print numbers from 1 to 10."
      ],
      "metadata": {
        "id": "ck8OmvyNtXfV"
      }
    },
    {
      "cell_type": "code",
      "source": [
        "a=range(1,11)\n",
        "for i in a:\n",
        "  print(i,end=\" \")\n"
      ],
      "metadata": {
        "colab": {
          "base_uri": "https://localhost:8080/"
        },
        "id": "45iywALNto_j",
        "outputId": "d3cb60a4-92ab-42ba-d99b-df12c2133229"
      },
      "execution_count": null,
      "outputs": [
        {
          "output_type": "stream",
          "name": "stdout",
          "text": [
            "1 2 3 4 5 6 7 8 9 10 "
          ]
        }
      ]
    },
    {
      "cell_type": "markdown",
      "source": [
        "Q13)write a program to find the sum of all even number between 1 to 50."
      ],
      "metadata": {
        "id": "sjb0FOkNumMo"
      }
    },
    {
      "cell_type": "code",
      "source": [
        "sum=0\n",
        "a=range(1,51)\n",
        "for i in a:\n",
        "  if(i%2==0):\n",
        "    sum=sum+i\n",
        "print(\"sum:\",sum,end=\" \")\n"
      ],
      "metadata": {
        "colab": {
          "base_uri": "https://localhost:8080/"
        },
        "id": "55Bqj8mrvOFT",
        "outputId": "013fe1a1-44cf-4fd8-d1ae-f976fc5ea904"
      },
      "execution_count": null,
      "outputs": [
        {
          "output_type": "stream",
          "name": "stdout",
          "text": [
            "sum: 650 "
          ]
        }
      ]
    },
    {
      "cell_type": "markdown",
      "source": [
        "Q14)write a program to reverce a string using while loop."
      ],
      "metadata": {
        "id": "od0LRgTxzBbM"
      }
    },
    {
      "cell_type": "code",
      "source": [
        "a=\"kaif\"\n",
        "reversed_a=\"\"\n",
        "index=len(a)-1\n",
        "while (index>=0):\n",
        "  reversed_a += a[index]\n",
        "  index-=1\n",
        "print(a)\n",
        "print(reversed_a)\n"
      ],
      "metadata": {
        "colab": {
          "base_uri": "https://localhost:8080/"
        },
        "id": "EAfXmuQDzcA6",
        "outputId": "8faaae18-7c45-46d6-f7eb-f8c285ec0424"
      },
      "execution_count": null,
      "outputs": [
        {
          "output_type": "stream",
          "name": "stdout",
          "text": [
            "kaif\n",
            "fiak\n"
          ]
        }
      ]
    },
    {
      "cell_type": "markdown",
      "source": [
        "Q15)write a python program to calculate the factorial of a number provided by the user using a while loop."
      ],
      "metadata": {
        "id": "duH0BeIA2bo6"
      }
    },
    {
      "cell_type": "code",
      "source": [
        "a=int(input(\"Enter the number:\"))\n",
        "fact=1\n",
        "i=1\n",
        "while(i<=a):\n",
        "  fact *= i\n",
        "  i+=1\n",
        "print(\"Factorial of\",a, \"is:\",fact)"
      ],
      "metadata": {
        "colab": {
          "base_uri": "https://localhost:8080/"
        },
        "id": "C48NkKji22pB",
        "outputId": "a0f60a7b-e8c3-452d-f780-e15355f1fe82"
      },
      "execution_count": null,
      "outputs": [
        {
          "output_type": "stream",
          "name": "stdout",
          "text": [
            "Enter the number:5\n",
            "Factorial of 5 is: 120\n"
          ]
        }
      ]
    }
  ]
}